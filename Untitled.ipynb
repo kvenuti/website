{
 "cells": [
  {
   "cell_type": "code",
   "execution_count": 21,
   "metadata": {
    "scrolled": false
   },
   "outputs": [
    {
     "name": "stdout",
     "output_type": "stream",
     "text": [
      "wanker\n"
     ]
    },
    {
     "ename": "ValueError",
     "evalue": "Remote named 'gh-pages' didn't exist",
     "output_type": "error",
     "traceback": [
      "\u001b[1;31m---------------------------------------------------------------------------\u001b[0m",
      "\u001b[1;31mValueError\u001b[0m                                Traceback (most recent call last)",
      "\u001b[1;32m<ipython-input-21-eea16a8f1d76>\u001b[0m in \u001b[0;36m<module>\u001b[1;34m()\u001b[0m\n\u001b[0;32m     60\u001b[0m \u001b[0mrepo\u001b[0m\u001b[1;33m.\u001b[0m\u001b[0mgit\u001b[0m\u001b[1;33m.\u001b[0m\u001b[0madd\u001b[0m\u001b[1;33m(\u001b[0m\u001b[1;34m'*'\u001b[0m\u001b[1;33m)\u001b[0m\u001b[1;33m\u001b[0m\u001b[0m\n\u001b[0;32m     61\u001b[0m \u001b[0mrepo\u001b[0m\u001b[1;33m.\u001b[0m\u001b[0mgit\u001b[0m\u001b[1;33m.\u001b[0m\u001b[0mcommit\u001b[0m\u001b[1;33m(\u001b[0m\u001b[0mm\u001b[0m\u001b[1;33m=\u001b[0m\u001b[1;34m\"sotd_for_\"\u001b[0m\u001b[1;33m+\u001b[0m\u001b[0mstr\u001b[0m\u001b[1;33m(\u001b[0m\u001b[0mtod\u001b[0m\u001b[1;33m)\u001b[0m\u001b[1;33m)\u001b[0m\u001b[1;33m\u001b[0m\u001b[0m\n\u001b[1;32m---> 62\u001b[1;33m \u001b[0mgh_pages\u001b[0m \u001b[1;33m=\u001b[0m \u001b[0mrepo\u001b[0m\u001b[1;33m.\u001b[0m\u001b[0mremote\u001b[0m\u001b[1;33m(\u001b[0m\u001b[0mname\u001b[0m\u001b[1;33m=\u001b[0m\u001b[1;34m'gh-pages'\u001b[0m\u001b[1;33m)\u001b[0m\u001b[1;33m\u001b[0m\u001b[0m\n\u001b[0m\u001b[0;32m     63\u001b[0m \u001b[0mgh_pages\u001b[0m\u001b[1;33m.\u001b[0m\u001b[0mpush\u001b[0m\u001b[1;33m(\u001b[0m\u001b[1;33m)\u001b[0m\u001b[1;33m\u001b[0m\u001b[0m\n\u001b[0;32m     64\u001b[0m \u001b[0mrepo\u001b[0m\u001b[1;33m.\u001b[0m\u001b[0mpush\u001b[0m\u001b[1;33m(\u001b[0m\u001b[1;33m)\u001b[0m\u001b[1;33m\u001b[0m\u001b[0m\n",
      "\u001b[1;32mC:\\Users\\kvenu\\AppData\\Local\\Continuum\\Anaconda3\\lib\\site-packages\\git\\repo\\base.py\u001b[0m in \u001b[0;36mremote\u001b[1;34m(self, name)\u001b[0m\n\u001b[0;32m    305\u001b[0m         \u001b[0mr\u001b[0m \u001b[1;33m=\u001b[0m \u001b[0mRemote\u001b[0m\u001b[1;33m(\u001b[0m\u001b[0mself\u001b[0m\u001b[1;33m,\u001b[0m \u001b[0mname\u001b[0m\u001b[1;33m)\u001b[0m\u001b[1;33m\u001b[0m\u001b[0m\n\u001b[0;32m    306\u001b[0m         \u001b[1;32mif\u001b[0m \u001b[1;32mnot\u001b[0m \u001b[0mr\u001b[0m\u001b[1;33m.\u001b[0m\u001b[0mexists\u001b[0m\u001b[1;33m(\u001b[0m\u001b[1;33m)\u001b[0m\u001b[1;33m:\u001b[0m\u001b[1;33m\u001b[0m\u001b[0m\n\u001b[1;32m--> 307\u001b[1;33m             \u001b[1;32mraise\u001b[0m \u001b[0mValueError\u001b[0m\u001b[1;33m(\u001b[0m\u001b[1;34m\"Remote named '%s' didn't exist\"\u001b[0m \u001b[1;33m%\u001b[0m \u001b[0mname\u001b[0m\u001b[1;33m)\u001b[0m\u001b[1;33m\u001b[0m\u001b[0m\n\u001b[0m\u001b[0;32m    308\u001b[0m         \u001b[1;32mreturn\u001b[0m \u001b[0mr\u001b[0m\u001b[1;33m\u001b[0m\u001b[0m\n\u001b[0;32m    309\u001b[0m \u001b[1;33m\u001b[0m\u001b[0m\n",
      "\u001b[1;31mValueError\u001b[0m: Remote named 'gh-pages' didn't exist"
     ]
    }
   ],
   "source": [
    "import pandas as pd\n",
    "from datetime import date\n",
    "import git\n",
    "import os\n",
    "import sys\n",
    "\n",
    "repo = git.Repo('../website')\n",
    "repo.git.checkout('gh-pages')\n",
    "repo.git.pull()\n",
    "\n",
    "tod = date.today()\n",
    "sotd_df = pd.read_csv('songs.csv')\n",
    "song_comps = sotd_df[sotd_df['day'] == tod.strftime(\"%#m/%#d/%Y\")].to_dict('records')[0]\n",
    "\n",
    "if str(song_comps['name']) == 'NaN':\n",
    "    print('--No song has been added--')\n",
    "    sys.exit()\n",
    "\n",
    "if tod.timetuple().tm_yday % 2:\n",
    "    song_comps['dir'] = 'r'\n",
    "    song_comps['day'] = ' -- '+song_comps['day']\n",
    "else:\n",
    "    song_comps['dir'] = 'l'\n",
    "    song_comps['day'] = song_comps['day']+' -- '\n",
    "\n",
    "new_song = '''<!-- PYTHON AUTO ADD ;)-->\n",
    "<li><a href=\"{link}\" target=\"_blank\"><div class=\"icon {genre}\"></div><div class=\"{genre}\">\n",
    "    <div class=\"direction-{dir}\">\n",
    "      <div class=\"flag-wrapper\">\n",
    "        <span class=\"flag\">{name}</span>\n",
    "        <span class=\"time-wrapper\"><span class=\"time\">{day}</span></span>\n",
    "      </div>\n",
    "      <div class=\"desc\">{artist}</div>\n",
    "    </div>\n",
    "  </div>\n",
    "</a></li>\n",
    "'''\n",
    "html = new_song.format(**song_comps)\n",
    "\n",
    "blog = 'song_ot_day_blog.html'\n",
    "with open(blog, 'r') as file :\n",
    "    filedata = file.read()\n",
    "    \n",
    "ans = 'y'\n",
    "if html in filedata:\n",
    "    print(song_comps['name'], 'already added to SOTD.')\n",
    "    sys.exit()\n",
    "elif song_comps['name'] in filedata:\n",
    "    ans = input('Already have %s in SOTD, add anyway?(y) '%song_comps['name']).lower()\n",
    "if ans == 'y':\n",
    "    print('wanker')\n",
    "    #filedata = filedata.replace('<!-- PYTHON AUTO ADD ;)-->', html)\n",
    "    \n",
    "with open(blog, 'w') as file:\n",
    "    file.write(filedata)\n",
    "    \n",
    "with open('_del.txt', 'w') as file:\n",
    "    file.write('wanker') \n",
    "    \n",
    "repo.git.add('*')\n",
    "repo.git.commit(m=\"sotd_for_\"+str(tod))\n",
    "gh_pages = repo.remote(name='gh-pages')\n",
    "gh_pages.push()\n",
    "repo.git.push('origin', 'gh-pages')"
   ]
  },
  {
   "cell_type": "code",
   "execution_count": null,
   "metadata": {
    "collapsed": true
   },
   "outputs": [],
   "source": []
  }
 ],
 "metadata": {
  "kernelspec": {
   "display_name": "Python 3",
   "language": "python",
   "name": "python3"
  },
  "language_info": {
   "codemirror_mode": {
    "name": "ipython",
    "version": 3
   },
   "file_extension": ".py",
   "mimetype": "text/x-python",
   "name": "python",
   "nbconvert_exporter": "python",
   "pygments_lexer": "ipython3",
   "version": "3.6.1"
  }
 },
 "nbformat": 4,
 "nbformat_minor": 2
}
