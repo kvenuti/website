{
 "cells": [
  {
   "cell_type": "code",
   "execution_count": 16,
   "metadata": {},
   "outputs": [
    {
     "name": "stdout",
     "output_type": "stream",
     "text": [
      "On branch gh-pages\n",
      "Your branch is up-to-date with 'origin/gh-pages'.\n",
      "Untracked files:\n",
      "  (use \"git add <file>...\" to include in what will be committed)\n",
      "\n",
      "\t.ipynb_checkpoints/\n",
      "\tUntitled.ipynb\n",
      "\n",
      "nothing added to commit but untracked files present (use \"git add\" to track)\n",
      "No song has been added\n"
     ]
    },
    {
     "ename": "SystemExit",
     "evalue": "",
     "output_type": "error",
     "traceback": [
      "An exception has occurred, use %tb to see the full traceback.\n",
      "\u001b[1;31mSystemExit\u001b[0m\n"
     ]
    },
    {
     "name": "stderr",
     "output_type": "stream",
     "text": [
      "C:\\Users\\kvenu\\AppData\\Local\\Continuum\\Anaconda3\\lib\\site-packages\\IPython\\core\\interactiveshell.py:2889: UserWarning: To exit: use 'exit', 'quit', or Ctrl-D.\n",
      "  warn(\"To exit: use 'exit', 'quit', or Ctrl-D.\", stacklevel=1)\n"
     ]
    }
   ],
   "source": [
    "import pandas as pd\n",
    "from datetime import date\n",
    "import git\n",
    "import os\n",
    "import sys\n",
    "\n",
    "repo = git.Repo('../website')\n",
    "repo.git.checkout('gh-pages')\n",
    "repo.git.pull()\n",
    "\n",
    "tod = date.today()\n",
    "sotd_df = pd.read_csv('songs.csv')\n",
    "song_comps = sotd_df[sotd_df['day'] == tod.strftime(\"%#m/%#d/%Y\")].to_dict('records')[0]\n",
    "\n",
    "if not str(song_comps['name']) == 'NaN':\n",
    "    print('--No song has been added--')\n",
    "    sys.exit()\n",
    "\n",
    "if tod.timetuple().tm_yday % 2:\n",
    "    song_comps['dir'] = 'r'\n",
    "    song_comps['day'] = ' -- '+song_comps['day']\n",
    "else:\n",
    "    song_comps['dir'] = 'l'\n",
    "    song_comps['day'] = song_comps['day']+' -- '\n",
    "\n",
    "new_song = '''<!-- PYTHON AUTO ADD ;)-->\n",
    "<li><a href=\"{link}\" target=\"_blank\"><div class=\"icon {genre}\"></div><div class=\"{genre}\">\n",
    "    <div class=\"direction-{dir}\">\n",
    "      <div class=\"flag-wrapper\">\n",
    "        <span class=\"flag\">{name}</span>\n",
    "        <span class=\"time-wrapper\"><span class=\"time\">{day}</span></span>\n",
    "      </div>\n",
    "      <div class=\"desc\">{artist}</div>\n",
    "    </div>\n",
    "  </div>\n",
    "</a></li>\n",
    "'''\n",
    "html = new_song.format(**song_comps)\n",
    "\n",
    "blog = 'song_ot_day_blog.html'\n",
    "with open(blog, 'r') as file :\n",
    "    filedata = file.read()\n",
    "    \n",
    "ans = 'y'\n",
    "if html in filedata:\n",
    "    print(song_comps['name'], 'already added to SOTD.')\n",
    "    sys.exit()\n",
    "elif song_comps['name'] in filedata:\n",
    "    ans = input('Already have %s in SOTD, add anyway?(y) '%song_comps['name']).lower()\n",
    "if ans == 'y':\n",
    "    filedata = filedata.replace('<!-- PYTHON AUTO ADD ;)-->', html)\n",
    "    \n",
    "with open(blog, 'w') as file:\n",
    "    file.write(filedata)\n",
    "    \n",
    "repo.git.add(blog)\n",
    "repo.git.commit(\"sotd for %s\"%tod)\n",
    "rep.push()"
   ]
  },
  {
   "cell_type": "code",
   "execution_count": null,
   "metadata": {
    "collapsed": true
   },
   "outputs": [],
   "source": []
  }
 ],
 "metadata": {
  "kernelspec": {
   "display_name": "Python 3",
   "language": "python",
   "name": "python3"
  },
  "language_info": {
   "codemirror_mode": {
    "name": "ipython",
    "version": 3
   },
   "file_extension": ".py",
   "mimetype": "text/x-python",
   "name": "python",
   "nbconvert_exporter": "python",
   "pygments_lexer": "ipython3",
   "version": "3.6.1"
  }
 },
 "nbformat": 4,
 "nbformat_minor": 2
}
